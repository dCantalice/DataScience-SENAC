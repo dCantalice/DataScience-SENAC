{
  "nbformat": 4,
  "nbformat_minor": 0,
  "metadata": {
    "colab": {
      "provenance": [],
      "authorship_tag": "ABX9TyMhOf7kh3ybYwLp5qyOtW/m",
      "include_colab_link": true
    },
    "kernelspec": {
      "name": "python3",
      "display_name": "Python 3"
    },
    "language_info": {
      "name": "python"
    }
  },
  "cells": [
    {
      "cell_type": "markdown",
      "metadata": {
        "id": "view-in-github",
        "colab_type": "text"
      },
      "source": [
        "<a href=\"https://colab.research.google.com/github/dCantalice/DataScience-SENAC/blob/main/Revis%C3%A3o_Python.ipynb\" target=\"_parent\"><img src=\"https://colab.research.google.com/assets/colab-badge.svg\" alt=\"Open In Colab\"/></a>"
      ]
    },
    {
      "cell_type": "code",
      "source": [
        "import numpy as np"
      ],
      "metadata": {
        "id": "gDlDTvXHHYPv"
      },
      "execution_count": null,
      "outputs": []
    },
    {
      "cell_type": "markdown",
      "source": [
        "### **Imprima uma sequência de números pares entre 100 e 150.**"
      ],
      "metadata": {
        "id": "Eyzypjf-HJln"
      }
    },
    {
      "cell_type": "code",
      "execution_count": null,
      "metadata": {
        "colab": {
          "base_uri": "https://localhost:8080/"
        },
        "id": "4BaIv1-VHHWA",
        "outputId": "80697d42-db25-41b7-e1ee-56bb413eeb4f"
      },
      "outputs": [
        {
          "output_type": "execute_result",
          "data": {
            "text/plain": [
              "array([100, 102, 104, 106, 108, 110, 112, 114, 116, 118, 120, 122, 124,\n",
              "       126, 128, 130, 132, 134, 136, 138, 140, 142, 144, 146, 148, 150])"
            ]
          },
          "metadata": {},
          "execution_count": 4
        }
      ],
      "source": [
        "q1 = np.arange(100, 151, 2)\n",
        "q1"
      ]
    },
    {
      "cell_type": "markdown",
      "source": [
        "### **Faça a correção dos erros no código abaixo e execute o programa.**"
      ],
      "metadata": {
        "id": "7zNLkNm6H6tH"
      }
    },
    {
      "cell_type": "code",
      "source": [
        "temperatura = float(input(Qual a temperatura? ))\n",
        "if temperatura > 30\n",
        "print('Vista roupas leves.')\n",
        "else\n",
        "print('Busque seus casacos.')"
      ],
      "metadata": {
        "id": "mIE_WQ3RJwZv"
      },
      "execution_count": null,
      "outputs": []
    },
    {
      "cell_type": "code",
      "source": [
        "temperatura = float(input('Qual a temperatura?'))\n",
        "if temperatura > 30:\n",
        " print('Vista roupas leves.')\n",
        "else:\n",
        " print('Busque seus casacos.')"
      ],
      "metadata": {
        "colab": {
          "base_uri": "https://localhost:8080/"
        },
        "id": "XTA_g58CIAFa",
        "outputId": "a35ddbe9-a2ea-42c1-8c41-ae49bbaed242"
      },
      "execution_count": null,
      "outputs": [
        {
          "output_type": "stream",
          "name": "stdout",
          "text": [
            "Qual a temperatura?22\n",
            "Busque seus casacos.\n"
          ]
        }
      ]
    },
    {
      "cell_type": "markdown",
      "source": [
        "### **Considere a lista abaixo e retorne apenas os elementos cujo índice for maior que 5.**"
      ],
      "metadata": {
        "id": "8GpX7-X1JbOP"
      }
    },
    {
      "cell_type": "code",
      "source": [
        "lista = ['a', 'b', 'c', 'd', 'e', 'f', 'g', 'h']\n",
        "lista"
      ],
      "metadata": {
        "colab": {
          "base_uri": "https://localhost:8080/"
        },
        "id": "ggGVuxwxJrFO",
        "outputId": "734c0880-099c-4777-bcfa-679a7cf38629"
      },
      "execution_count": null,
      "outputs": [
        {
          "output_type": "execute_result",
          "data": {
            "text/plain": [
              "['a', 'b', 'c', 'd', 'e', 'f', 'g', 'h']"
            ]
          },
          "metadata": {},
          "execution_count": 14
        }
      ]
    },
    {
      "cell_type": "code",
      "source": [
        "print(lista[5:])"
      ],
      "metadata": {
        "colab": {
          "base_uri": "https://localhost:8080/"
        },
        "id": "pA0H-HZuJ2AO",
        "outputId": "88bb941f-78a1-45a3-fc6a-b9d934f2540d"
      },
      "execution_count": null,
      "outputs": [
        {
          "output_type": "stream",
          "name": "stdout",
          "text": [
            "['f', 'g', 'h']\n"
          ]
        }
      ]
    },
    {
      "cell_type": "markdown",
      "source": [
        "### **Usando o que foi visto em sala, crie uma estrutura que pergunte ao usuário qual o dia da semana. Se o dia for igual a domingo ou igual a sábado, imprima na tela \"Hoje é dia de descanso\", caso contrário imprima na tela \"Você precisa trabalhar!\"**"
      ],
      "metadata": {
        "id": "eU3Wyh4VKRAf"
      }
    },
    {
      "cell_type": "code",
      "source": [
        "dia = [\"domingo\",'segunda','terça','quarta','quinta','sexta','sabado']\n",
        "diaInput = input('Qual o dia da semana? ')\n",
        "if diaInput != dia[0] and diaInput != dia[6]:\n",
        "  print(\"Você precisa trabalhar!\")\n",
        "else:\n",
        "  print(\"Hoje é dia de descanso\")"
      ],
      "metadata": {
        "colab": {
          "base_uri": "https://localhost:8080/"
        },
        "id": "0R3ScGdjKXTX",
        "outputId": "610f23da-0273-42ef-b52b-5bb682ac7664"
      },
      "execution_count": null,
      "outputs": [
        {
          "output_type": "stream",
          "name": "stdout",
          "text": [
            "Qual o dia da semana? sexta\n",
            "Você precisa trabalhar!\n"
          ]
        }
      ]
    },
    {
      "cell_type": "markdown",
      "source": [
        "### **Faça um Programa que peça as 4 notas bimestrais e mostre a média.**"
      ],
      "metadata": {
        "id": "Eklj-VqBOv6w"
      }
    },
    {
      "cell_type": "code",
      "source": [
        "nota1 = float(input(\"Digite a primeira nota: \"))\n",
        "nota2 = float(input(\"Digite a segunda nota: \"))\n",
        "nota3 = float(input(\"Digite a terceira nota: \"))\n",
        "nota4 = float(input(\"Digite a quarta nota: \"))\n",
        "\n",
        "media = (nota1 + nota2 + nota3 + nota4) / 4\n",
        "\n",
        "if media>6:\n",
        " print(\"Parabéns, você foi aprovado! A sua média foi:\", media)\n",
        "else:\n",
        " print(\"Que pena, você foi reprovado! A sua média foi:\", media)\n"
      ],
      "metadata": {
        "colab": {
          "base_uri": "https://localhost:8080/"
        },
        "id": "PungIPoBOyGN",
        "outputId": "71fc2e7d-d2b7-4fab-d1c5-25c7a2b1e541"
      },
      "execution_count": null,
      "outputs": [
        {
          "output_type": "stream",
          "name": "stdout",
          "text": [
            "Digite a primeira nota: 10\n",
            "Digite a segunda nota: 0\n",
            "Digite a terceira nota: 5\n",
            "Digite a quarta nota: 0\n",
            "Que pena, você foi reprovado! A sua média foi: 3.75\n"
          ]
        }
      ]
    },
    {
      "cell_type": "markdown",
      "source": [
        "### **Faça um Programa que converta metros para centímetros.**"
      ],
      "metadata": {
        "id": "QSB2gtrUPaOm"
      }
    },
    {
      "cell_type": "code",
      "source": [
        "m = float(input(\"Digite quantos metros você quer converter: \"))\n",
        "cm = m*100\n",
        "print(m, \"metros convertido são\",cm,\"centimentros\")"
      ],
      "metadata": {
        "colab": {
          "base_uri": "https://localhost:8080/"
        },
        "id": "LRaNVtw5Peqs",
        "outputId": "de8d7830-156c-4d36-8cdf-60e9ed041a76"
      },
      "execution_count": null,
      "outputs": [
        {
          "output_type": "stream",
          "name": "stdout",
          "text": [
            "Digite quantos metros você quer converter: 22.4\n",
            "22.4 metros convertido são 2240.0 centimentros\n"
          ]
        }
      ]
    },
    {
      "cell_type": "markdown",
      "source": [
        "### **Faça um Programa que pergunte quanto você ganha por hora e o número de horas trabalhadas no mês. Calcule e mostre o total do seu salário no referido mês.**"
      ],
      "metadata": {
        "id": "LAgv5qtUQSfe"
      }
    },
    {
      "cell_type": "code",
      "source": [
        "ganho = float(input(\"Quanto você ganha por hora? \"))\n",
        "horas = float(input(\"Quantas horas você trabalhou no mês? \"))\n",
        "\n",
        "salario = ganho * horas\n",
        "print(\"Você recebeu de salário no mês R$\",salario)"
      ],
      "metadata": {
        "colab": {
          "base_uri": "https://localhost:8080/"
        },
        "id": "lJyOF9tvQbVl",
        "outputId": "20447e4d-9de6-45cd-cedc-c3cd9ee83341"
      },
      "execution_count": null,
      "outputs": [
        {
          "output_type": "stream",
          "name": "stdout",
          "text": [
            "Quanto você ganha por hora? 100\n",
            "Quantas horas você trabalhou no mês? 20\n",
            "Você recebeu de salário no mês R$ 2000.0\n"
          ]
        }
      ]
    },
    {
      "cell_type": "markdown",
      "source": [
        "### **Faça um Programa que peça 2 números inteiros e um número real. Calcule e mostre:**\n",
        "- o produto do dobro do primeiro com metade do segundo .\n",
        "- a soma do triplo do primeiro com o terceiro.\n",
        "- o terceiro elevado ao cubo."
      ],
      "metadata": {
        "id": "mX6Ip2qiSEz1"
      }
    },
    {
      "cell_type": "code",
      "source": [
        "n1 = int(input(\"Digite o primeiro inteiro: \"))\n",
        "n2 = int(input(\"Digite o segundo inteiro: \"))\n",
        "n3 = float(input(\"Digite um numero real: \"))\n",
        "\n",
        "print(\"\")\n",
        "\n",
        "r1 = n1*2 * n2/2\n",
        "print(\"O primeiro resultado é:\",r1)\n",
        "r2 = n1*3 + n3\n",
        "print(\"O segundo resultado é: \",r2)\n",
        "r3 = n3**3\n",
        "print(\"O terceiro resultado é: \",r3)"
      ],
      "metadata": {
        "colab": {
          "base_uri": "https://localhost:8080/"
        },
        "id": "nwL3r5QRSMMN",
        "outputId": "01cbccf7-b9a3-4ad0-b93c-767bf87b4bed"
      },
      "execution_count": null,
      "outputs": [
        {
          "output_type": "stream",
          "name": "stdout",
          "text": [
            "Digite o primeiro inteiro: 1\n",
            "Digite o segundo inteiro: 2\n",
            "Digite um numero real: 3\n",
            "\n",
            "O primeiro resultado é: 2.0\n",
            "O segundo resultado é:  6.0\n",
            "O terceiro resultado é:  27.0\n"
          ]
        }
      ]
    },
    {
      "cell_type": "markdown",
      "source": [
        "### **Faça um Programa que pergunte quanto você ganha por hora e o número de horas trabalhadas no mês. Calcule e mostre o total do seu salário no referido mês sabendo-se que são descontados 11% para o Imposto de Renda, 8% para o INSS e 5% para o sindicato, faça um programa que nos dê:**\n",
        "\n",
        "• salário bruto.\n",
        "\n",
        "• quanto pagou ao INSS.\n",
        "\n",
        "• quanto pagou ao sindicato.\n",
        "\n",
        "• o salário líquido.\n",
        "\n",
        "• calcule os descontos e o salário líquido\n"
      ],
      "metadata": {
        "id": "5i0FxHq-T0Z-"
      }
    },
    {
      "cell_type": "code",
      "source": [
        "ganho = float(input(\"Quanto você ganha por hora? \"))\n",
        "horas = float(input(\"Quantas horas você trabalhou no mês? \"))\n",
        "\n",
        "salario = ganho * horas\n",
        "imposto = salario * 0.11\n",
        "inss = salario * 0.08\n",
        "sindicato = salario * 0.05\n",
        "liquido = salario - imposto - inss - sindicato\n",
        "\n",
        "print(\"Você recebeu de salário no mês R$\",salario)\n",
        "print(\"Imposto de Renda (11%): R$\",imposto)\n",
        "print(\"INSS (8%): R$\",inss)\n",
        "print(\"Sindicato (5%): R$\",sindicato)\n",
        "print(\"Salário Líquido: R$\",liquido)"
      ],
      "metadata": {
        "colab": {
          "base_uri": "https://localhost:8080/"
        },
        "id": "eGd_wnkmUHHU",
        "outputId": "d309abf9-b4c0-4483-c536-0a3bdcef803a"
      },
      "execution_count": null,
      "outputs": [
        {
          "output_type": "stream",
          "name": "stdout",
          "text": [
            "Quanto você ganha por hora? 10\n",
            "Quantas horas você trabalhou no mês? 30\n",
            "Você recebeu de salário no mês R$ 300.0\n",
            "Imposto de Renda (11%): R$ 33.0\n",
            "INSS (8%): R$ 24.0\n",
            "Sindicato (5%): R$ 15.0\n",
            "Salário Líquido: R$ 228.0\n"
          ]
        }
      ]
    },
    {
      "cell_type": "markdown",
      "source": [
        "### **Faça um programa que peça o tamanho de um arquivo para download (em MB) e a velocidade de um link de Internet (em Mbps), calcule e informe o tempo aproximado de download do arquivo usando este link (em minutos).**"
      ],
      "metadata": {
        "id": "t5SPEzpYpcxT"
      }
    },
    {
      "cell_type": "code",
      "source": [
        "tamanho_arquivo = float(input(\"Digite o tamanho do arquivo para download em MB: \"))\n",
        "velocidade_link = float(input(\"Digite a velocidade do link de Internet em Mbps: \"))\n",
        "\n",
        "tamanho_bits = tamanho_arquivo * 8 * 1024 * 1024\n",
        "velocidade_bits = velocidade_link * 1024 * 1024\n",
        "\n",
        "tempo_download_segundos = tamanho_bits / velocidade_bits\n",
        "tempo_download_minutos = tempo_download_segundos / 60\n",
        "\n",
        "print(\"O tempo aproximado de download do arquivo é de\", round(tempo_download_minutos, 2), \"minutos.\")\n"
      ],
      "metadata": {
        "colab": {
          "base_uri": "https://localhost:8080/"
        },
        "id": "965aSeU1pqUA",
        "outputId": "59cde150-8d28-4016-e8d9-7e262297ce0b"
      },
      "execution_count": 1,
      "outputs": [
        {
          "output_type": "stream",
          "name": "stdout",
          "text": [
            "Digite o tamanho do arquivo para download (em MB): 500\n",
            "Digite a velocidade do link de Internet (em Mbps): 10\n",
            "O tempo aproximado de download do arquivo é de 6.67 minutos.\n"
          ]
        }
      ]
    }
  ]
}